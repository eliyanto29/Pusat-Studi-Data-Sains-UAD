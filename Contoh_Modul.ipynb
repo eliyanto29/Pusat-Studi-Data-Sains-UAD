{
  "nbformat": 4,
  "nbformat_minor": 0,
  "metadata": {
    "colab": {
      "name": "Contoh_Modul.ipynb",
      "provenance": [],
      "authorship_tag": "ABX9TyOFdCOFh/1n2R2/uCPzXBuk",
      "include_colab_link": true
    },
    "kernelspec": {
      "name": "python3",
      "display_name": "Python 3"
    }
  },
  "cells": [
    {
      "cell_type": "markdown",
      "metadata": {
        "id": "view-in-github",
        "colab_type": "text"
      },
      "source": [
        "<a href=\"https://colab.research.google.com/github/eliyanto29/Pusat-Studi-Data-Sains-UAD/blob/main/Contoh_Modul.ipynb\" target=\"_parent\"><img src=\"https://colab.research.google.com/assets/colab-badge.svg\" alt=\"Open In Colab\"/></a>"
      ]
    },
    {
      "cell_type": "code",
      "metadata": {
        "id": "kdIDdM0mDqAk"
      },
      "source": [
        "def volume_kubus1(s):\r\n",
        "  S=float(s)\r\n",
        "  Volume=S**3\r\n",
        "  return Volume\r\n",
        "\r\n",
        "def volume_kubus2(s):\r\n",
        "  S=float(s)\r\n",
        "  Volume=S**3\r\n",
        "  return Volume\r\n",
        "\r\n",
        "def volume_kubus(s1,s2):\r\n",
        "  v1=volume_kubus1(s1)\r\n",
        "  v2=volume_kubus2(s2)\r\n",
        "  Volume=v1+v2\r\n",
        "  return Volume\r\n",
        "\r\n",
        "volume_kubus(2,3)"
      ],
      "execution_count": null,
      "outputs": []
    }
  ]
}
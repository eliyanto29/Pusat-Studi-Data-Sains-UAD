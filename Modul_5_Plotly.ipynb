{
  "nbformat": 4,
  "nbformat_minor": 0,
  "metadata": {
    "colab": {
      "name": "Modul 5-Plotly.ipynb",
      "provenance": [],
      "toc_visible": true,
      "authorship_tag": "ABX9TyNxq+Qda24cSgApvihBu5tW",
      "include_colab_link": true
    },
    "kernelspec": {
      "name": "python3",
      "display_name": "Python 3"
    }
  },
  "cells": [
    {
      "cell_type": "markdown",
      "metadata": {
        "id": "view-in-github",
        "colab_type": "text"
      },
      "source": [
        "<a href=\"https://colab.research.google.com/github/eliyanto29/Pusat-Studi-Data-Sains-UAD/blob/main/Modul_5_Plotly.ipynb\" target=\"_parent\"><img src=\"https://colab.research.google.com/assets/colab-badge.svg\" alt=\"Open In Colab\"/></a>"
      ]
    },
    {
      "cell_type": "markdown",
      "metadata": {
        "id": "VBRuyzgZ_RLz"
      },
      "source": [
        "# Visualisasi Data Dengan **PLOTLY** Dasar\r\n",
        "Pusat Studi Data Sains (PSDS) Program Studi Matematika UAD"
      ]
    },
    {
      "cell_type": "markdown",
      "metadata": {
        "id": "UhirA2BuAm7C"
      },
      "source": [
        "### **Pengenalan Plotly**"
      ]
    },
    {
      "cell_type": "markdown",
      "metadata": {
        "id": "PjNf_h0e_hA2"
      },
      "source": [
        "Plotly adalah salah satu modul untuk visualisasi pada python. Modul ini memiliki kelebihan untuk membuat visualisasi data yang interaktif. Informasi lengkap mengenai modul ini bisa diperoleh di link di bawah ini:\r\n",
        "\r\n",
        "https://plotly.com/python/basic-charts/\r\n",
        "\r\n",
        "\r\n",
        "Modul lain untuk visualisasi yang biasa digunakan adalah Matplotlib dan Seaborn. Keduanya adalah modul visualisasi yang tidak interaktif. Kemudian, perlu diketahui juga bahwa Seaborn dibangun berdasarkan Matplotlib, sehingga Seaborn merupakan modul Matplotlib yang lebih advance."
      ]
    },
    {
      "cell_type": "markdown",
      "metadata": {
        "id": "PUbxz87jAlLm"
      },
      "source": [
        "### **Aktivitas Modul**"
      ]
    },
    {
      "cell_type": "markdown",
      "metadata": {
        "id": "yImZL6I_AwPr"
      },
      "source": [
        "Pada modul ini, temen-temen akan belajar dengan mandiri. Untuk data memahami modul ini dengan baik, temen-temen harus melakukan semua aktivitas di modul ini sendiri. Setiap materi contoh visualisasi disajikan dalam bentuk gambar, sehingga untuk bisa melakukan visualisasi temen-temen harus mengetikkannya pada cell code di bawahnya. Jika terjadi kesalahan, ucapkan istigfar, dan cek kembali apakah ketikan program anda sudah benar atau masih terdapat kesalahan. Kesalahan kecil seperti kurang koma, spasi, dan lainnya sangat sensitif pada aktivitas ini. Fokuslah pada modul kalian masing-masing dan jangan sibuk bertanya kepada teman kalian saat koding kamu error, karena fokus untuk memperbaiki kesalahan sendiri jauh lebih baik daripada mecermati kesalahan orang lain. \r\n",
        "\r\n",
        "Terima Kasih\r\n",
        "\r\n",
        "Selamat belajar!!!"
      ]
    },
    {
      "cell_type": "code",
      "metadata": {
        "id": "VnAhHuVmDLsT"
      },
      "source": [
        "#Import Modul PloltLy Express\r\n",
        "import plotly.express as px"
      ],
      "execution_count": null,
      "outputs": []
    },
    {
      "cell_type": "markdown",
      "metadata": {
        "id": "pGYkJkHcDcVe"
      },
      "source": [
        "### Dasar-dasar Visualisasi Data Menggunakan PlotLy\r\n",
        "\r\n",
        "Berikut adalah bagian-bagian pada sebuah halaman visualisasi data pada library PlotLy\r\n",
        "\r\n",
        "![alt text](https://drive.google.com/uc?id=1l5LQM3-08pQDEcSAgJJirjvT9aThBfdR\r\n",
        ")\r\n",
        "\r\n"
      ]
    },
    {
      "cell_type": "markdown",
      "metadata": {
        "id": "ntwmnNuIB3Ff"
      },
      "source": [
        "## Scater Plot"
      ]
    },
    {
      "cell_type": "markdown",
      "metadata": {
        "id": "FgJBORwkB5rq"
      },
      "source": [
        "Scatter Plot adalah plot berupa titik-titik data dalam dimensi 2 ataupun 3. Tujuan melakukan plot dalam bentuk ini adalah melihat sebaran data, melihat pola-pola sebaran data dalam bentuk kelompok, bisa juga untuk melihat pola keterkaitan(korelasi), ataupun kedekatan antar titik data. Pada modul ini kita akan mempelajari visualisasi data untuk 2 dimensi dulu."
      ]
    },
    {
      "cell_type": "markdown",
      "metadata": {
        "id": "TOAJPtxbCXBa"
      },
      "source": [
        "Secara umum, susunan sytax untuk Scater Plot pada Modul PlotLy adalah sebagai berikut:\r\n",
        "\r\n",
        "Visualisasi data 2 list (list sumbu x dan list sumbu y\r\n",
        "```\r\n",
        "import plotly.express as px\r\n",
        "fig = px.scatter(x=[0, 1, 2, 3, 4], \r\n",
        "                 y=[0, 1, 4, 9, 16])\r\n",
        "fig.show()\r\n",
        "```\r\n",
        "\r\n",
        "Visualisasi data 2 list dalam DataFrame\r\n",
        "\r\n",
        "```\r\n",
        "fig = px.scatter(df,                       #DataFrame yang akan di plot\r\n",
        "                 x=\"sepal_width\",          #Data untuk sumbu X\r\n",
        "                 y=\"sepal_length\"         #Data untuk sumbu Y\r\n",
        "                 )\r\n",
        "```\r\n",
        "\r\n",
        "\r\n"
      ]
    },
    {
      "cell_type": "code",
      "metadata": {
        "id": "__UUUfXuS-xa"
      },
      "source": [
        "import plotly.express as px\r\n",
        "import pandas as pd\r\n",
        "#Menyiapkan Data\r\n",
        "df = pd.read_csv('https://raw.githubusercontent.com/eliyanto29/My-Academics-Paper-On-Data-Science/master/FCM-Core-and-Reduct/iris_dataset.csv')\r\n",
        "df['species'] = df['species'].astype('string')"
      ],
      "execution_count": null,
      "outputs": []
    },
    {
      "cell_type": "code",
      "metadata": {
        "id": "Mh8wYXuA8R4d"
      },
      "source": [
        "#Membuat Plot Scatter\r\n",
        "fig = px.scatter(df,                       #DataFrame yang akan di plot\r\n",
        "                 x=\"sepal_width\",          #Data untuk sumbu X\r\n",
        "                 y=\"sepal_length\",         #Data untuk sumbu Y\r\n",
        "                 color=\"species\",          #Memberikan Warna (Opsional)\r\n",
        "                 size=\"petal_length\"       #Memberikan Ukuran (Opsional)\r\n",
        "                 )\r\n",
        "#Menambahkan Keterangan\r\n",
        "fig.update_layout(\r\n",
        "    #Menambahkan dan mengatur Judul Grafis\r\n",
        "    title='Iris Dataset', \r\n",
        "    title_font_color=\"blue\",\r\n",
        "    title_font_size=30,    \r\n",
        "    #Menambahkan dan mengatur label sumbu x            \r\n",
        "    xaxis=dict(\r\n",
        "        title='Sepal Width',\r\n",
        "        titlefont_size=16,\r\n",
        "        tickfont_size=14),\r\n",
        "    #Menambahkan dan mengatur label sumbu y\r\n",
        "    yaxis=dict(\r\n",
        "        title='Sepal Length',\r\n",
        "        titlefont_size=16,\r\n",
        "        tickfont_size=14))\r\n",
        "#Menampilkan Figure\r\n",
        "fig.show()"
      ],
      "execution_count": null,
      "outputs": []
    },
    {
      "cell_type": "markdown",
      "metadata": {
        "id": "czULWgqpTZp8"
      },
      "source": [
        "## Line Plot"
      ]
    },
    {
      "cell_type": "markdown",
      "metadata": {
        "id": "Yce2YXP_Xgtw"
      },
      "source": [
        "Line Plot atau Diagram garis digunakan untuk mevisualisasikan data dalam bentuk garis. Tujuannya adalah untuk melihat pergerakan sebuah data apakah menaik atau menurun."
      ]
    },
    {
      "cell_type": "code",
      "metadata": {
        "id": "AvH1H9jpS5Ql"
      },
      "source": [
        "import numpy as np\r\n",
        "import plotly.graph_objects as go\r\n",
        "confirmed_cases_file_link='https://raw.githubusercontent.com/CSSEGISandData/COVID-19/master/csse_covid_19_data/csse_covid_19_time_series/time_series_covid19_confirmed_global.csv'\r\n"
      ],
      "execution_count": null,
      "outputs": []
    },
    {
      "cell_type": "code",
      "metadata": {
        "id": "Aj6a7vZtPzzM"
      },
      "source": [
        "#Mengambil Data Yang Dibutuhkan\r\n",
        "confirmed_df=pd.read_csv(confirmed_cases_file_link)\r\n",
        "confirmed_df=confirmed_df.replace(np.nan,'',regex=True)\r\n",
        "confirmed_df=confirmed_df.copy().drop(['Lat', 'Long','Province/State'],axis=1)\r\n",
        "indo_conf_df=confirmed_df[confirmed_df['Country/Region']=='Indonesia']\r\n",
        "indo_conf=indo_conf_df.transpose()\r\n",
        "indo_conf=indo_conf[1::]\r\n",
        "indo_conf.columns=['Conf']\r\n",
        "\r\n",
        "kenaikan_conf = []\r\n",
        "for i in range(len(indo_conf.Conf)-1):\r\n",
        "  kenaikan_conf.append(indo_conf.Conf[i+1]-indo_conf.Conf[i])\r\n",
        "\r\n",
        "index=indo_conf.index"
      ],
      "execution_count": null,
      "outputs": []
    },
    {
      "cell_type": "code",
      "metadata": {
        "id": "twxi1CB0T7Wc"
      },
      "source": [
        "indo_conf"
      ],
      "execution_count": null,
      "outputs": []
    },
    {
      "cell_type": "code",
      "metadata": {
        "id": "OXFRSKm9Q8UR"
      },
      "source": [
        "gbr_1=go.Figure()\r\n",
        "#Membuat Plot Line\r\n",
        "gbr_1.add_trace(go.Scatter(x=index,\r\n",
        "                           y=kenaikan_conf, \r\n",
        "                           name='Konfirmasi',\r\n",
        "                           mode='lines+markers'))\r\n",
        "\r\n",
        "gbr_1.update_layout(\r\n",
        "    #Menambahkan dan mengatur Judul Grafis\r\n",
        "    title='Diagram Garis COVID-19 Indonesia Hingga 17 Desember 2020', \r\n",
        "    title_font_color=\"blue\",\r\n",
        "    title_font_size=30, \r\n",
        "    #Menambahkan dan mengatur label sumbu x            \r\n",
        "    xaxis=dict(\r\n",
        "        title='Tanggal',\r\n",
        "        titlefont_size=16,\r\n",
        "        tickfont_size=14),\r\n",
        "    #Menambahkan dan mengatur label sumbu y\r\n",
        "    yaxis=dict(\r\n",
        "        title='Jumlah',\r\n",
        "        titlefont_size=16,\r\n",
        "        tickfont_size=14))\r\n",
        "\r\n",
        "gbr_1.show()"
      ],
      "execution_count": null,
      "outputs": []
    },
    {
      "cell_type": "markdown",
      "metadata": {
        "id": "3IUFKdb83WXX"
      },
      "source": [
        "## Bar Plot"
      ]
    },
    {
      "cell_type": "markdown",
      "metadata": {
        "id": "-oXGLqSa3Yd3"
      },
      "source": [
        "Bar plot atau diagram batang, diagra ini cocok untuk membandingkan nilai data yang cukup banyak. Berfungsi untuk melihat kenaikan atau penurunan data."
      ]
    },
    {
      "cell_type": "code",
      "metadata": {
        "id": "WG7ELhW-UPz6"
      },
      "source": [
        "indo_conf_minggu_terakhir=indo_conf.iloc[-14:,::]\r\n",
        "indo_conf2=indo_conf_minggu_terakhir\r\n",
        "indo_conf2"
      ],
      "execution_count": null,
      "outputs": []
    },
    {
      "cell_type": "code",
      "metadata": {
        "id": "ezGbsj6xKaxU"
      },
      "source": [
        "#Membuat Plot Bar\r\n",
        "gbr_3 = px.bar(indo_conf2, \r\n",
        "               x=indo_conf2.index, \r\n",
        "               y='Conf')\r\n",
        "\r\n",
        "gbr_3.update_layout(\r\n",
        "    #Menambahkan dan mengatur Judul Grafis\r\n",
        "    title='Diagram Garis COVID-19 Indonesia 2 Minggu Terakhir 2020', \r\n",
        "    title_font_color=\"blue\",\r\n",
        "    title_font_size=30, \r\n",
        "    #Menambahkan dan mengatur label sumbu x            \r\n",
        "    xaxis=dict(\r\n",
        "        title='Tanggal',\r\n",
        "        titlefont_size=16,\r\n",
        "        tickfont_size=14),\r\n",
        "    #Menambahkan dan mengatur label sumbu y\r\n",
        "    yaxis=dict(\r\n",
        "        title='Jumlah',\r\n",
        "        titlefont_size=16,\r\n",
        "        tickfont_size=14))\r\n",
        "\r\n",
        "gbr_3.show()"
      ],
      "execution_count": null,
      "outputs": []
    },
    {
      "cell_type": "markdown",
      "metadata": {
        "id": "hPHOJXn53h6S"
      },
      "source": [
        "## Pie Plot"
      ]
    },
    {
      "cell_type": "markdown",
      "metadata": {
        "id": "zE-vq7Qe3mf5"
      },
      "source": [
        "Vsualisasi diagram lingkaran fokus untuk menampilkan perbandingan data. Lebih baik digunakan untuk jumlah variabel yang sedikit."
      ]
    },
    {
      "cell_type": "code",
      "metadata": {
        "id": "c14nk9MWU7u0"
      },
      "source": [
        "import plotly.graph_objects as go\r\n",
        "\r\n",
        "labels = ['Oxygen','Hydrogen','Carbon_Dioxide','Nitrogen']\r\n",
        "values = [4500, 2500, 1053, 500]\r\n",
        "\r\n",
        "fig = go.Figure(data=[go.Pie(labels=labels, values=values)])\r\n",
        "fig.show()"
      ],
      "execution_count": null,
      "outputs": []
    },
    {
      "cell_type": "markdown",
      "metadata": {
        "id": "eF5jwskZXLuD"
      },
      "source": [
        "Tugas Pie Plot\r\n",
        "\r\n",
        "Buatlah Suatu Visualisasi Data Pie Plot lengkap dengan Tittle dan Legend dengan datamu sendiri!"
      ]
    },
    {
      "cell_type": "code",
      "metadata": {
        "id": "NRRs1RddXXU1"
      },
      "source": [
        "#Ketikkan Kodemu Di Ini\r\n",
        "\r\n",
        "\r\n"
      ],
      "execution_count": null,
      "outputs": []
    },
    {
      "cell_type": "markdown",
      "metadata": {
        "id": "nl8xManYESG5"
      },
      "source": [
        "## Network/Graph"
      ]
    },
    {
      "cell_type": "markdown",
      "metadata": {
        "id": "NP6k1JEjEKG7"
      },
      "source": [
        "Mungkin ada beberapa temen-temen yang sudah mengetahuii teori tentang graph atau belum. Pada intinya graph itu untuk menggambarkan hubungan antara titik data menggunakan garis. Jika kedua titik ada hubungan maka dihubungkan, kalau tidak ya tidak. Lebih lengkapnya, baca artikel ini **WAJIB**: \r\n",
        "\r\n",
        "[Teori Graph, Sejarah dan Manfaatnya](https://https://mti.binus.ac.id/2018/03/05/teori-graph-sejarah-dan-manfaatnya/)\r\n",
        "\r\n",
        "\r\n",
        "Nah, mari kita membuat graph kita sendiri. \r\n",
        "\r\n"
      ]
    },
    {
      "cell_type": "code",
      "metadata": {
        "id": "AaSL3t6nEJeq"
      },
      "source": [
        "from operator import itemgetter\r\n",
        "from networkx.algorithms import community\r\n",
        "import networkx as nx\r\n",
        "import pandas as pd\r\n",
        "import matplotlib.pyplot as plt"
      ],
      "execution_count": null,
      "outputs": []
    },
    {
      "cell_type": "markdown",
      "metadata": {
        "id": "VFt61L2fEXfi"
      },
      "source": [
        "Intinya graph itu terdiri dari dua hal penting yaitu nodes(titik) dan edges(garis hubung).\r\n",
        "\r\n",
        "File excelnya di download dulu di GC terus diupload di sini ya. Kayak yang pandas kemarin loh."
      ]
    },
    {
      "cell_type": "code",
      "metadata": {
        "id": "C8zBtDOwEVWT"
      },
      "source": [
        "#Mengakses Dataset\r\n",
        "#Dataset titik\r\n",
        "nodes_df=pd.read_excel('/content/migrasi_penduduk.xlsx', sheet_name='nodes')\r\n",
        "nodes_df"
      ],
      "execution_count": null,
      "outputs": []
    },
    {
      "cell_type": "code",
      "metadata": {
        "id": "LCMZvAZDEdhi"
      },
      "source": [
        "#Dataset edge\r\n",
        "edges_df = pd.read_excel('/content/migrasi_penduduk.xlsx', sheet_name='edges')\r\n",
        "edges_df.head()"
      ],
      "execution_count": null,
      "outputs": []
    },
    {
      "cell_type": "markdown",
      "metadata": {
        "id": "5vVKSrWbEbEo"
      },
      "source": [
        "Pada kasus ini, kita akan membuat graph tentang laju migrasi penduduk di Indonesia saat pandemi. (Data Simulasi) Untuk membuat graphnya bisa mneggunakan code berikut:"
      ]
    },
    {
      "cell_type": "code",
      "metadata": {
        "id": "O30A_2S5EgxO"
      },
      "source": [
        "#Menyiapkan data\r\n",
        "node_names = list(nodes_df.id)\r\n",
        "edges=edges_df[['origin','destination']]\r\n",
        "edges.to_csv('edges_direction.csv')\r\n",
        "edges = list(zip(edges_df.origin, edges_df.destination))\r\n",
        "edge_value=edges_df['count']/100000\r\n",
        "#Membuat Graph\r\n",
        "G = nx.DiGraph()\r\n",
        "G.add_nodes_from(node_names)\r\n",
        "G.add_edges_from(edges)\r\n",
        "print(nx.info(G))"
      ],
      "execution_count": null,
      "outputs": []
    },
    {
      "cell_type": "markdown",
      "metadata": {
        "id": "qA0h_v9xEivK"
      },
      "source": [
        "Nah pada akhir code di atas kita mendapat indformasi tentang graph yang sudah kita buat yaitu 21 titik(kota) dan 83 edge(jalur migrasi antar kota). Dua hal baris terakhir diabaikan dulu. Kita fokus untuk temen-temen bisa plot dulu aja. Bagi yang tertarik bisa memperdalam sendiri untuk bidang ini\r\n",
        "\r\n",
        "Kemudian, kita akan melakukan vusialisasi graph. Tiap titik nanti akan diberi bobot atau ukuran didasarkan derajat centralitasnya. Apa itu? coba dicari di google hehehe. Tapi intinya derajat centralitas ini menggambarkan ke centralan titik pada graph, makin tinggi maka makin menggambarkan bahwa titik itu menjadi centarl pada suatu kelompok titik. Artinya titik ini bahkan bisa terhubung ke semua titik yang lainnya dan dia menjadi pusat dari kumpulan titik-titik itu."
      ]
    },
    {
      "cell_type": "code",
      "metadata": {
        "id": "Wnw4jWylEpWb"
      },
      "source": [
        "#Seting layout\r\n",
        "pos = nx.spring_layout(G)\r\n",
        "#Menhitung derajat sentralitas\r\n",
        "degCent = nx.degree_centrality(G)\r\n",
        "#Mewarnai titik\r\n",
        "node_color = [20000.0 * G.degree(v) for v in G]\r\n",
        "#Memberi ukuran pada titik\r\n",
        "node_size =  [v * 10000 for v in degCent.values()]\r\n",
        "plt.figure(figsize=(15,15))\r\n",
        "#Plot graph\r\n",
        "nx.draw_networkx(G, pos=pos, with_labels=True,\r\n",
        "                 node_color=node_color,\r\n",
        "                 node_size=node_size,\r\n",
        "                 width=edge_value)\r\n",
        "plt.axis('off')\r\n",
        "#Mengurutkan kota berdasarrkan nilai derajar centralitasnya\r\n",
        "sorted(degCent, key=degCent.get, reverse=True)[:3]\r\n"
      ],
      "execution_count": null,
      "outputs": []
    },
    {
      "cell_type": "markdown",
      "metadata": {
        "id": "cyQgcx1JEsIU"
      },
      "source": [
        "Dari hasil di atas dapat disimpulkan tiga kota prioritas lockdown karena menjadi central atas kota-kota disekitarnya adalah Semarang, Bandung dan Surabaya."
      ]
    },
    {
      "cell_type": "markdown",
      "metadata": {
        "id": "vcUiCJ55Euf0"
      },
      "source": [
        "## Word Cloud"
      ]
    },
    {
      "cell_type": "markdown",
      "metadata": {
        "id": "3gbttnoFEyIK"
      },
      "source": [
        "Kalo ini keren lagi, kita mau melakukan plot kata-kata gitu gaes. Jadi nanti kata-kata yang sering dibahas diplot lebih besar dan sebaliknya. Gituuu"
      ]
    },
    {
      "cell_type": "code",
      "metadata": {
        "id": "JTrcKw9REver"
      },
      "source": [
        "from wordcloud import WordCloud, STOPWORDS \r\n",
        "import matplotlib.pyplot as plt \r\n",
        "import pandas as pd "
      ],
      "execution_count": null,
      "outputs": []
    },
    {
      "cell_type": "code",
      "metadata": {
        "id": "ko5Osv7yE0uQ"
      },
      "source": [
        "# Membuka data\r\n",
        "# File csv ada di GC\r\n",
        "df = pd.read_csv(r\"/content/Youtube02-KatyPerry.csv\", encoding =\"latin-1\") \r\n",
        "  \r\n",
        "comment_words = '' \r\n",
        "stopwords = set(STOPWORDS) \r\n",
        "  \r\n",
        "# Melakukan iterasi \r\n",
        "for val in df.CONTENT: \r\n",
        "      \r\n",
        "    # mengubah nilai ke dalam bentuk string \r\n",
        "    val = str(val) \r\n",
        "  \r\n",
        "    # memecah kalimat menjadi kata-kata\r\n",
        "    tokens = val.split() \r\n",
        "      \r\n",
        "    # mengubah menjadi huruf kecil\r\n",
        "    for i in range(len(tokens)): \r\n",
        "        tokens[i] = tokens[i].lower() \r\n",
        "      \r\n",
        "    comment_words += \" \".join(tokens)+\" \"\r\n",
        "  \r\n",
        "wordcloud = WordCloud(width = 800, height = 800, \r\n",
        "                background_color ='white', \r\n",
        "                stopwords = stopwords, \r\n",
        "                min_font_size = 10).generate(comment_words) \r\n",
        "  \r\n",
        "# Melakukan plot                    \r\n",
        "plt.figure(figsize = (8, 8), facecolor = None) \r\n",
        "plt.imshow(wordcloud) \r\n",
        "plt.axis(\"off\") \r\n",
        "plt.tight_layout(pad = 0) \r\n",
        "  \r\n",
        "plt.show() "
      ],
      "execution_count": null,
      "outputs": []
    }
  ]
}